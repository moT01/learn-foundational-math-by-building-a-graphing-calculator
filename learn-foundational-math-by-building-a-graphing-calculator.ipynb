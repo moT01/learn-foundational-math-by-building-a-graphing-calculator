{
  "nbformat": 4,
  "nbformat_minor": 0,
  "metadata": {
    "colab": {
      "name": "Foundational Math 2 (Learn).ipynb",
      "provenance": [],
      "collapsed_sections": []
    },
    "kernelspec": {
      "name": "python3",
      "display_name": "Python 3"
    },
    "language_info": {
      "name": "python"
    }
  },
  "cells": [
    {
      "cell_type": "markdown",
      "metadata": {
        "id": "7ECUmRBSGOb4"
      },
      "source": [
        "<b>Foundational Math - Certification 2</b><br>\n",
        "Each of these steps will lead you toward the Certification Project. Once you complete a step, click to expand the next step."
      ]
    },
    {
      "cell_type": "markdown",
      "metadata": {
        "id": "ZWDxpIPUFfda"
      },
      "source": [
        "# 1 - Cartesian Coordinates"
      ]
    },
    {
      "cell_type": "markdown",
      "metadata": {
        "id": "eTWzFpChFltm"
      },
      "source": [
        "Learn Cartesian coordinates by building a scatterplot game. The Cartesian plane is the classic x-y coordinate grid (invented by Ren$\\acute{e}$ DesCartes) where `x` is the horizontal axis and `y` is the vertical axis. Each `(x,y)` coordinate pair is a point on the graph. The point (0,0) is the \"origin.\" The x value tells how much to move right (positive) or left (negaive) from the origin. The y value tells you how much you move up (positive) or down (negative) from the origin. Notice that you are importing `matplotlib` to create the graph. The following code just displays one quadrant of the Cartesian graph.\n"
      ]
    },
    {
      "cell_type": "code",
      "metadata": {
        "id": "OGdjnZw0Fmf7"
      },
      "source": [
        "import matplotlib.pyplot as plt\n",
        "\n",
        "fig, ax = plt.subplots()\n",
        "plt.show()\n",
        "\n",
        "# just run this code\n"
      ],
      "execution_count": null,
      "outputs": []
    },
    {
      "cell_type": "markdown",
      "metadata": {
        "id": "i1mBd8gGFvBV"
      },
      "source": [
        "# 2 - Cartesian Coordinates (Part 2)"
      ]
    },
    {
      "cell_type": "markdown",
      "metadata": {
        "id": "aylg20IGFvBW"
      },
      "source": [
        "Here you will create a standard window but still not highlight each axis. Run this code once, then change the window size and run it again."
      ]
    },
    {
      "cell_type": "code",
      "metadata": {
        "id": "EKfFo4_EFvBX"
      },
      "source": [
        "import matplotlib.pyplot as plt\n",
        "\n",
        "fig, ax = plt.subplots()\n",
        "\n",
        "# Only change the numbers in the next line:\n",
        "plt.axis([-10,10,-10,10]) \n",
        "\n",
        "plt.show()\n"
      ],
      "execution_count": null,
      "outputs": []
    },
    {
      "cell_type": "markdown",
      "metadata": {
        "id": "wLDO_IRrFw7z"
      },
      "source": [
        "# 3 - Plotting Points"
      ]
    },
    {
      "cell_type": "markdown",
      "metadata": {
        "id": "iOZ8TJISFw71"
      },
      "source": [
        "Now you will plot a point on the graph. Notice the `'ro'` makes the point a red dot. Run the code, then change the location of the point and run it again. Keep the window size the same, and plot a point within these boundaries."
      ]
    },
    {
      "cell_type": "code",
      "metadata": {
        "id": "N09NlV3DFw71"
      },
      "source": [
        "import matplotlib.pyplot as plt\n",
        "\n",
        "fig, ax = plt.subplots()\n",
        "plt.axis([-10,10,-10,10]) # window size\n",
        "\n",
        "# Change only the numbers in the following line:\n",
        "plt.plot([3],[4], 'ro')\n",
        "\n",
        "plt.show()\n",
        "\n"
      ],
      "execution_count": null,
      "outputs": []
    },
    {
      "cell_type": "markdown",
      "metadata": {
        "id": "yCUmBP2eFzaS"
      },
      "source": [
        "# 4 - Displaying Each Axis"
      ]
    },
    {
      "cell_type": "markdown",
      "metadata": {
        "id": "g2MJQLk0FzaS"
      },
      "source": [
        "This code will show the x axis and the y axis on the Cartesian plane. For reference, one point will also appear. Just run this code, but take notice of the differrence between plotting a point and plotting a line. You will learn about that in the next step."
      ]
    },
    {
      "cell_type": "code",
      "metadata": {
        "id": "PwL13zD7FzaT"
      },
      "source": [
        "import matplotlib.pyplot as plt\n",
        "\n",
        "fig, ax = plt.subplots()\n",
        "plt.axis([-10,10,-10,10]) # window size\n",
        "plt.plot([-10,10],[0,0],'b') # blue x axis\n",
        "plt.plot([0,0],[-10,10], 'b') # blue y axis\n",
        "plt.plot([2],[8], 'ro') # red point\n",
        "plt.show()\n",
        "\n",
        "# Just run this code\n"
      ],
      "execution_count": null,
      "outputs": []
    },
    {
      "cell_type": "markdown",
      "metadata": {
        "id": "ExVB2joZF0rk"
      },
      "source": [
        "# 5 - Plotting Several Points"
      ]
    },
    {
      "cell_type": "markdown",
      "metadata": {
        "id": "G48kO0jcF0rl"
      },
      "source": [
        "You have actually been using arrays to plot each singular point so far. In this step, you will define an array of x values and an array of y values before the plot statement. Run this code, then add one number to each array and run it again."
      ]
    },
    {
      "cell_type": "code",
      "metadata": {
        "id": "YkRIMNimF0rm"
      },
      "source": [
        "import matplotlib.pyplot as plt\n",
        "\n",
        "# only change the next two lines:\n",
        "x = [4]\n",
        "y = [2]\n",
        "\n",
        "fig, ax = plt.subplots()\n",
        "plt.axis([-10,10,-10,10]) # window size\n",
        "plt.plot([-10,10],[0,0],'b') # blue x axis\n",
        "plt.plot([0,0],[-10,10],'b') # blue y axis\n",
        "plt.plot(x, y, 'ro') # red point\n",
        "plt.show()\n"
      ],
      "execution_count": null,
      "outputs": []
    },
    {
      "cell_type": "markdown",
      "metadata": {
        "id": "3MqIpFTOF1m9"
      },
      "source": [
        "# 6 - Plotting Points and Lines"
      ]
    },
    {
      "cell_type": "markdown",
      "metadata": {
        "id": "1O1_p4BqF1m-"
      },
      "source": [
        "Notice the subtle difference between plotting points and lines. Each `plot()` statement takes an array of x values, an array of y values, and a third argument to tell what you are plotting. The default plot is a line. The letters \"r\" and \"b\" (and \"g\" and a few others) indicate common colors. The \"o\" in 'ro' indicates a dot, where 'rs' would indicate a red square and 'r^' would indicate a red triangle. Plot a red line and two green squares. "
      ]
    },
    {
      "cell_type": "code",
      "metadata": {
        "id": "oMRcOD7hF1m-"
      },
      "source": [
        "import matplotlib.pyplot as plt\n",
        "\n",
        "# Change the next four lines:\n",
        "linex = [4]\n",
        "liney = [2]\n",
        "pointx = [1]\n",
        "pointy = [5]\n",
        "\n",
        "fig, ax = plt.subplots()\n",
        "plt.axis([-10,10,-10,10]) # window size\n",
        "plt.plot([-10,10],[0,0],'b') # blue x axis\n",
        "plt.plot([0,0],[-10,10],'b') # blue y axis\n",
        "\n",
        "# Change the next two lines:\n",
        "plt.plot()\n",
        "plt.plot()\n",
        "\n",
        "plt.show()\n"
      ],
      "execution_count": null,
      "outputs": []
    },
    {
      "cell_type": "markdown",
      "metadata": {
        "id": "NKq_qwCsF3Dj"
      },
      "source": [
        "# 7 - Making the Scatterplot Game"
      ]
    },
    {
      "cell_type": "markdown",
      "metadata": {
        "id": "sBh-rNyOF3Dk"
      },
      "source": [
        "To make the game, you will make a loop that plots a point and asks the user to input the (x,y) coordinates. You can randomize the points to keep it interesting"
      ]
    },
    {
      "cell_type": "code",
      "metadata": {
        "id": "uR5TFWbLF3Dk"
      },
      "source": [
        "import matplotlib.pyplot as plt\n",
        "import random\n",
        "\n",
        "fig, ax = plt.subplots()\n",
        "plt.axis([-10,10,-10,10]) # window size\n",
        "plt.plot([-10,10],[0,0],'b') # blue x axis\n",
        "plt.plot([0,0],[-10,10],'b') # blue y axis\n",
        "\n",
        "# Change the next two lines:\n",
        "for i in range(0,5):\n",
        "\n",
        "    xpoint = random.randint(-10, 10)\n",
        "    x = [xpoint]  \n",
        "    ypoint = random.randint(-10, 10)\n",
        "    y = [ypoint]\n",
        "    plt.plot(x, y, 'ro')\n",
        "    plt.show()\n",
        "    guess = input(\"Enter the coordinates of the red point point\", xyinput)\n",
        "    guess_array = guess.split(\",\")\n",
        "    xguess = intval(guess_array[0])\n",
        "\n",
        "    # Finish the code here\n",
        "  \n"
      ],
      "execution_count": null,
      "outputs": []
    },
    {
      "cell_type": "markdown",
      "metadata": {
        "id": "wvdngkOTF4Hi"
      },
      "source": [
        "# 8 - Graphing Linear Equations"
      ]
    },
    {
      "cell_type": "markdown",
      "metadata": {
        "id": "fTzBZAmtF4Hj"
      },
      "source": [
        "Besides graphing points, you can graph equations. Start with `linear` equations, which are straight lines and do not have any exponents. For this, you will import `numpy` and use that to define the x values. The `linspace()` function takes three arguments: starting number, ending number, and number of steps. Notice the `plot()` function only has two arguments: the x values and a function for the y values. Run this code, then graph two other functions to make a triangle."
      ]
    },
    {
      "cell_type": "code",
      "metadata": {
        "id": "xJ0pkcFsF4Hj"
      },
      "source": [
        "import matplotlib.pyplot as plt\n",
        "import numpy as np\n",
        "\n",
        "fig, ax = plt.subplots()\n",
        "plt.axis([-10,10,-10,10]) # window size\n",
        "plt.plot([-10,10],[0,0],'b') # blue x axis\n",
        "plt.plot([0,0],[-10,10], 'b') # blue y axis\n",
        "\n",
        "x1 = np.linspace(-3,5,16) \n",
        "plt.plot(x1, 2*x1 -3,'ro')\n",
        "\n",
        "# Write your code here to graph two other linear equations:\n",
        "\n",
        "plt.show()\n"
      ],
      "execution_count": null,
      "outputs": []
    },
    {
      "cell_type": "markdown",
      "metadata": {
        "id": "Q19Wm90DF5zf"
      },
      "source": [
        "# 9 - Creating Interactive Graphs"
      ]
    },
    {
      "cell_type": "markdown",
      "metadata": {
        "id": "JNEjD9DxF5zh"
      },
      "source": [
        "Like the previous graphs, you will graph a line. This time, you will create two sliders to change the slope and the y intecept. Notice the additional imports and other changes: You define a function with two arguments. All of the graphing happens within that `f(m,b)` function. The `interactive()` function calls your defined function and sets the boundaries for the sliders."
      ]
    },
    {
      "cell_type": "code",
      "metadata": {
        "id": "9lh41CENF5zh"
      },
      "source": [
        "%matplotlib inline\n",
        "from ipywidgets import interactive\n",
        "import matplotlib.pyplot as plt\n",
        "import numpy as np\n",
        "\n",
        "def f(m, b):\n",
        "    plt.axis([-10,10,-10,10]) # window size\n",
        "    plt.plot([-10,10],[0,0],'k') # blue x axis\n",
        "    plt.plot([0,0],[-10,10], 'k') # blue y axis\n",
        "    x = np.linspace(-10, 10, 1000)\n",
        "    plt.plot(x, m*x+b)\n",
        "    plt.show()\n",
        "\n",
        "interactive_plot = interactive(f, m=(-9, 9), b=(-9, 9))\n",
        "interactive_plot\n"
      ],
      "execution_count": null,
      "outputs": []
    },
    {
      "cell_type": "markdown",
      "metadata": {
        "id": "YSY2k7S3F6d7"
      },
      "source": [
        "# 10 - Systems of Equations - Graphing"
      ]
    },
    {
      "cell_type": "markdown",
      "metadata": {
        "id": "8MG28-VPF6d8"
      },
      "source": [
        "When you graph two equations on the same coordinate plane, they are a `system of equations`. The solution is the point where the two lines intersect. Change the `y1` and `y2` lines to represent different functions, run the code to graph the system, then change `px` and `py` to plot the point where the two lines intersect. Later, you will write code to solve systems of equations."
      ]
    },
    {
      "cell_type": "code",
      "metadata": {
        "id": "wYHGm-PAF6d9"
      },
      "source": [
        "import matplotlib.pyplot as plt\n",
        "import numpy as np\n",
        "\n",
        "fig, ax = plt.subplots()\n",
        "plt.axis([-10,10,-10,10]) # window size\n",
        "plt.plot([-10,10],[0,0],'b') # blue x axis\n",
        "plt.plot([0,0],[-10,10], 'b') # blue y axis\n",
        "\n",
        "# line 1\n",
        "x1 = np.linspace(-10,10,40) \n",
        "y1 = 2*x1\n",
        "plt.plot(x1, y1)\n",
        "\n",
        "# line 2\n",
        "x2 = np.linspace(-10,10,40)\n",
        "y2 = x2**2-3\n",
        "plt.plot(x2, y2)\n",
        "\n",
        "# point where the lines intersect\n",
        "px = [-1]\n",
        "py = [-2]\n",
        "plt.plot(px, py, 'ro')\n",
        "\n",
        "plt.show()\n"
      ],
      "execution_count": null,
      "outputs": []
    },
    {
      "cell_type": "markdown",
      "metadata": {
        "id": "ykj42UNeF7K5"
      },
      "source": [
        "# 11 - Systems of Equations - Substitution"
      ]
    },
    {
      "cell_type": "markdown",
      "metadata": {
        "id": "n_-rpo6nF7K7"
      },
      "source": [
        "To work with algabraic expressions, you will import `sympy` and define x and y as symbols. If you have two equations and two variables, set each equation equal to zero. The `linsolve()` function takes the non-zero side of each equation and the variables used. Notice the syntax. Run the code, then change the two equations to solve a different system."
      ]
    },
    {
      "cell_type": "code",
      "metadata": {
        "id": "6dFzZfqRF7K7"
      },
      "source": [
        "from sympy import *\n",
        "x,y = symbols('x y')\n",
        "\n",
        "# Change the equations in the following line: \n",
        "linsolve([x + y - 2, x - y - 14], (x, y))\n"
      ],
      "execution_count": null,
      "outputs": []
    },
    {
      "cell_type": "markdown",
      "metadata": {
        "id": "0epVLhL0F88U"
      },
      "source": [
        "# 12 - Systems of Equations - Solve and Graph"
      ]
    },
    {
      "cell_type": "markdown",
      "metadata": {
        "id": "VhoI5uNrF88V"
      },
      "source": [
        "To do more than output the solution, store the `linsolve()` output as a variable. This data type is a `finiteset` so you can get the x and y values as separate variables, similar to working with a two-dimensional array. Add the code to graph a system of equations and plot a point for the solution. (Hint: Use your code from an earlier step.)"
      ]
    },
    {
      "cell_type": "code",
      "metadata": {
        "id": "8irtXhucF88W"
      },
      "source": [
        "from sympy import *\n",
        "\n",
        "x,y = symbols('x y')\n",
        "print(\"Use x and y as variables. Set each equation equal to zero.\")\n",
        "first = input(\"Enter the first equation: 0 = \")\n",
        "second = input(\"Enter the second equation: 0 = \")\n",
        "solution = linsolve([first, second], (x, y))\n",
        "x_solution = solution.args[0][0]\n",
        "y_solution = solution.args[0][1]\n",
        "\n",
        "# Delete the next two lines when you are finished testing the output\n",
        "print(\"x = \", x_solution)\n",
        "print(\"y = \", y_solution)\n",
        "\n",
        "# Write your code here\n",
        "\n"
      ],
      "execution_count": null,
      "outputs": []
    },
    {
      "cell_type": "markdown",
      "metadata": {
        "id": "BhKPZQJZF9w0"
      },
      "source": [
        "# 13 - Quadratic Functions"
      ]
    },
    {
      "cell_type": "markdown",
      "metadata": {
        "id": "BYmD2FYHF9w1"
      },
      "source": [
        "Any function that involves x<sup>2</sup> is a `quadratic` function. The graph is a parabola. The formula is y = ax<sup>2</sup> + bx + c, where `b` and `c` can be zero but `a` has to be a number. Here is a graph of the simplest parabola: "
      ]
    },
    {
      "cell_type": "code",
      "metadata": {
        "id": "sfQl_A1CF9w1"
      },
      "source": [
        "import matplotlib.pyplot as plt\n",
        "import numpy as np\n",
        "\n",
        "fig, ax = plt.subplots()\n",
        "plt.axis([-10,10,-10,10]) # window size\n",
        "plt.plot([-10,10],[0,0],'b') # blue x axis\n",
        "plt.plot([0,0],[-10,10], 'b') # blue y axis\n",
        "\n",
        "x = np.linspace(-4,4,16) \n",
        "y = x**2\n",
        "\n",
        "plt.plot(x,y)\n",
        "plt.show()\n",
        "# Just run this code. The next step will transform the graph\n"
      ],
      "execution_count": null,
      "outputs": []
    },
    {
      "cell_type": "markdown",
      "metadata": {
        "id": "I0mklEluF-jI"
      },
      "source": [
        "# 14 - Quadratic Functions - A"
      ]
    },
    {
      "cell_type": "markdown",
      "metadata": {
        "id": "AJuHf8ySF-jJ"
      },
      "source": [
        "Increasing the value of `a` makes the parabola narrower. Run the code and use the slider to change the value of `a`. Also notice what happens when `a` is negative. In the code, you will see the interactive graph you used before."
      ]
    },
    {
      "cell_type": "code",
      "metadata": {
        "id": "9IVFnXxVF-jJ"
      },
      "source": [
        "%matplotlib inline\n",
        "from ipywidgets import interactive\n",
        "import matplotlib.pyplot as plt\n",
        "import numpy as np\n",
        "\n",
        "def f(a):\n",
        "    plt.axis([-10,10,-10,10]) # window size\n",
        "    plt.plot([-10,10],[0,0],'k') # blue x axis\n",
        "    plt.plot([0,0],[-10,10], 'k') # blue y axis\n",
        "    x = np.linspace(-10, 10, 1000)\n",
        "    plt.plot(x, a*x**2)\n",
        "    plt.show()\n",
        "\n",
        "interactive_plot = interactive(f, a=(-9, 9))\n",
        "interactive_plot\n"
      ],
      "execution_count": null,
      "outputs": []
    },
    {
      "cell_type": "markdown",
      "metadata": {
        "id": "eFehWNexGASC"
      },
      "source": [
        "# 15 - Quadratic Functions - Vertex"
      ]
    },
    {
      "cell_type": "markdown",
      "metadata": {
        "id": "p8hAZw_CGASD"
      },
      "source": [
        "The `vertex` is the point where the parabola turns around. The x value of the `vertex` is $\\frac{-b}{2a}$ (and then you would calculate the y value to get the point). Write the code to find the vertex, given `a`, `b`, and `c` as inputs. Remember the parabola forumula is y = ax<sup>2</sup> + bx + c"
      ]
    },
    {
      "cell_type": "code",
      "metadata": {
        "id": "cjMI5uZZGASD"
      },
      "source": [
        "import matplotlib.pyplot as plt\n",
        "import numpy as np\n",
        "\n",
        "a = float(input(\"a = \"))\n",
        "b = float(input(\"b = \"))\n",
        "c = float(input(\"c = \"))\n",
        "vx = 0\n",
        "vy = 0\n",
        "\n",
        "# Write your code here, changing vx and vy\n",
        "\n",
        "\n",
        "\n",
        "\n",
        "# Only change the code above this line\n",
        "\n",
        "print(\" (\", vx, \" , \", vy, \")\")\n",
        "\n",
        "fig, ax = plt.subplots()\n",
        "plt.axis([-10,10,-10,10]) # window size\n",
        "plt.plot([-10,10],[0,0],'b') # blue x axis\n",
        "plt.plot([0,0],[-10,10], 'b') # blue y axis\n",
        "plt.plot([vx],[vy],'ro')\n",
        "\n",
        "x = np.linspace(vx-10,vx+10,100) \n",
        "y = a*x**2+b*x+c\n",
        "plt.plot(x,y)\n",
        "\n",
        "plt.show()\n"
      ],
      "execution_count": null,
      "outputs": []
    },
    {
      "cell_type": "markdown",
      "metadata": {
        "id": "hN_fvENUGBAm"
      },
      "source": [
        "# 16 - Quadratic Functions - C"
      ]
    },
    {
      "cell_type": "markdown",
      "metadata": {
        "id": "GrJNli5pGBAn"
      },
      "source": [
        "Like many other functions, the `c` value (also called the `constant` because it is not a variable) affects the vertical shift of the graph. Run the following code to see how changing the `c` value changes the graph."
      ]
    },
    {
      "cell_type": "code",
      "metadata": {
        "id": "hiSN0VexGBAn"
      },
      "source": [
        "import matplotlib.pyplot as plt\n",
        "import numpy as np\n",
        "import time\n",
        "from IPython import display\n",
        "\n",
        "x = np.linspace(-4,4,16) \n",
        "fig, ax = plt.subplots()\n",
        "cvalue = \"c = \"\n",
        "\n",
        "for c in range(10):\n",
        "    y = x**2+c\n",
        "    plt.plot(x,y)\n",
        "    cvalue = \"c = \", c\n",
        "    ax.set_title(cvalue)\n",
        "    display.display(plt.gcf())\n",
        "    time.sleep(1.0)\n",
        "    display.clear_output(wait=True)\n",
        "\n",
        "# Just run this code\n"
      ],
      "execution_count": null,
      "outputs": []
    },
    {
      "cell_type": "markdown",
      "metadata": {
        "id": "WbqugasGGCKJ"
      },
      "source": [
        "# 17 - Projectile Motion"
      ]
    },
    {
      "cell_type": "markdown",
      "metadata": {
        "id": "TtM_pFHaGCKK"
      },
      "source": [
        "The path of every projectile is a parabola. For something thrown or launched upward, the `a` value is -4.9 (meters per second squared); the `b` value is the initial velocity (in meters per second); the `c` value is the initial height (in meters); the `x` value is time (in seconds); and the `y` value is the height at that time. "
      ]
    },
    {
      "cell_type": "code",
      "metadata": {
        "id": "FTNV_bjuGCKL"
      },
      "source": [
        "import matplotlib.pyplot as plt\n",
        "import numpy as np\n",
        "\n",
        "a = -4.9\n",
        "b = float(input(\"Initial velocity = \"))\n",
        "c = float(input(\"Initial height = \"))\n",
        "vx = 0\n",
        "vy = 0\n",
        "fig, ax = plt.subplots()\n",
        "\n",
        "# Write your code below this line\n",
        "# Change vx and vy to represent the vertex\n",
        "\n",
        "\n",
        "# Also change the following dimensions to display the full graph\n",
        "\n",
        "plt.axis([-10,10,-10,10]) # window size\n",
        "plt.plot([-10,10],[0,0],'b') # blue x axis\n",
        "plt.plot([0,0],[-10,10], 'b') # blue y axis\n",
        "plt.plot([vx],[vy],'ro')\n",
        "\n",
        "x = np.linspace(vx-10,vx+10,100) \n",
        "\n",
        "# Only change code above this line\n",
        "\n",
        "y = a*x**2+b*x+c\n",
        "plt.plot(x,y)\n",
        "\n",
        "print(\" (\", vx, \" , \", vy, \")\")\n",
        "plt.show()\n",
        "\n",
        "\n"
      ],
      "execution_count": null,
      "outputs": []
    },
    {
      "cell_type": "markdown",
      "metadata": {
        "id": "vteEy9QFGD5I"
      },
      "source": [
        "# 18 - The Quadratic Formula"
      ]
    },
    {
      "cell_type": "markdown",
      "metadata": {
        "id": "xALyhEsNGD5J"
      },
      "source": [
        "For a projectile, you also need to find when it hits the ground. On a graph, these two points would be the `roots` or `x intercepts` or `zeros` (because y = 0 at these points). The `quadratic formula` gives you the x value when y = 0. Given `a`,`b` and `c`, here is the quadratic formula:<br> x = $\\frac{-b \\pm \\sqrt{b^2 - 4ac}}{2a}$ Notice it's the vertex plus or minus something: $\\frac{-b}{2a} + \\frac{\\sqrt{b^2 - 4ac}}{2a}$ and $\\frac{-b}{2a} - \\frac{\\sqrt{b^2 - 4ac}}{2a}$ <br>\n",
        "Write the code to output two x values, given a, b, and c as input."
      ]
    },
    {
      "cell_type": "code",
      "metadata": {
        "id": "R3OIh1pOGD5K"
      },
      "source": [
        "import math\n",
        "\n",
        "a = float(input(\"a = \"))\n",
        "b = float(input(\"b = \"))\n",
        "c = float(input(\"c = \"))\n",
        "x1 = 0\n",
        "x2 = 0\n",
        "\n",
        "# Write your code here, changing x1 and x2\n",
        "\n",
        "\n",
        "\n",
        "# Do not change the code below this line\n",
        "print(\"The roots are \", x1, \" and \", x2)\n"
      ],
      "execution_count": null,
      "outputs": []
    },
    {
      "cell_type": "markdown",
      "metadata": {
        "id": "jpo7oASHGEu7"
      },
      "source": [
        "# 19 - Projectile Game"
      ]
    },
    {
      "cell_type": "markdown",
      "metadata": {
        "id": "WHx9faGkGEu7"
      },
      "source": [
        "Learn quadratic functions by building a projectile game. Starting at (0,0) you launch a toy rocket that must clear a wall. You can randomize the height and location of the wall. The goal is to determine what initial velocity would get the rocket over the wall. Bonus: make an animation of the path of the rocket.\n"
      ]
    },
    {
      "cell_type": "code",
      "metadata": {
        "id": "-yFfSgoeWHN3"
      },
      "source": [
        "# Write your code here\n"
      ],
      "execution_count": null,
      "outputs": []
    },
    {
      "cell_type": "markdown",
      "metadata": {
        "id": "VXxx7RCVSs4j"
      },
      "source": [
        "# 20 - Table of Values"
      ]
    },
    {
      "cell_type": "markdown",
      "metadata": {
        "id": "9Bd8bgPISiRH"
      },
      "source": [
        "In addition to graphing a function, you may need a table of values. This code shows how to make a simple table of (x,y) values. Run the code, then change the function and run it again. "
      ]
    },
    {
      "cell_type": "code",
      "metadata": {
        "id": "e4dBSioJGGd3"
      },
      "source": [
        "import numpy as np\n",
        "import matplotlib.pyplot as plt\n",
        "\n",
        "ax = plt.subplot()\n",
        "ax.set_axis_off()\n",
        "title = \"some table\"\n",
        "cols = ('x', 'y')\n",
        "rows = [[0,0]]\n",
        "for a in range(1,10):\n",
        "    rows.append([a, 2*a]) # Change only the function in this line\n",
        "    \n",
        "ax.set_title(title) \n",
        "plt.table(cellText=rows, colLabels=cols, cellLoc='center', loc='upper left')\n",
        "plt.show()\n"
      ],
      "execution_count": null,
      "outputs": []
    }
  ]
}
